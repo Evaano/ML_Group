{
 "cells": [
  {
   "metadata": {},
   "cell_type": "markdown",
   "source": [
    "# Predicting Item Consumption with XGBoost\n",
    "\n",
    "## Project Introduction\n",
    "\n",
    "This project aims to predict the monthly consumption of various items using historical consumption data from the past three years. The predictions will help in inventory management and demand forecasting. We will use XGBoost, a powerful machine learning algorithm, to build our predictive models.\n"
   ],
   "id": "7aa5ce24c6364920"
  },
  {
   "metadata": {},
   "cell_type": "code",
   "source": [
    "import pandas as pd\n",
    "import xgboost as xgb\n",
    "from sklearn.model_selection import train_test_split\n",
    "from sklearn.metrics import mean_squared_error\n",
    "import matplotlib.pyplot as plt\n",
    "\n",
    "# Load and prepare data\n",
    "data = pd.read_csv('data.csv')\n"
   ],
   "id": "20f715eecc7ed337",
   "outputs": [],
   "execution_count": null
  },
  {
   "metadata": {},
   "cell_type": "markdown",
   "source": [
    "## Data Preparation\n",
    "\n",
    "We start by reshaping the data to have a proper format for our analysis. We melt the data frame to have monthly consumption in a single column, then extract and correct the year and month columns.\n"
   ],
   "id": "e58d5d052075574a"
  },
  {
   "metadata": {},
   "cell_type": "code",
   "source": [
    "# Reshape data\n",
    "monthly_data = pd.melt(data, id_vars=['ITEM DESCRIPTION'],\n",
    "                       value_vars=[col for col in data.columns if 'JANUARY' in col or 'FEBRUARY' in col or 'MARCH' in col or 'APRIL' in col or 'MAY' in col or 'JUNE' in col or 'JULY' in col or 'AUGUST' in col or 'SEPTEMBER' in col or 'OCTOBER' in col or 'NOVEMBER' in col or 'DECEMBER' in col],\n",
    "                       var_name='Month_Year', value_name='Consumption')\n",
    "\n",
    "# Extract year and month\n",
    "monthly_data['Year'] = monthly_data['Month_Year'].str.split('_').str[0]\n",
    "monthly_data['Month'] = monthly_data['Month_Year'].str.split('_').str[1]\n",
    "\n",
    "# Correct the reversed columns\n",
    "monthly_data['Year'], monthly_data['Month'] = monthly_data['Month'], monthly_data['Year']\n",
    "\n",
    "# Create a date column\n",
    "monthly_data['Date'] = pd.to_datetime(monthly_data['Month'] + ' ' + monthly_data['Year'], format='%B %Y')\n",
    "\n",
    "# Drop unnecessary columns\n",
    "monthly_data = monthly_data.drop(columns=['Month_Year'])\n",
    "\n",
    "# Sort by date\n",
    "monthly_data = monthly_data.sort_values(by='Date')\n",
    "\n",
    "# Set Date as index\n",
    "monthly_data.set_index('Date', inplace=True)\n",
    "monthly_data.head()\n"
   ],
   "id": "9b488f50bb5e5af2",
   "outputs": [],
   "execution_count": null
  },
  {
   "metadata": {},
   "cell_type": "markdown",
   "source": [
    "## Data Exploration and Visualization\n",
    "\n",
    "We explore the data to understand the consumption patterns and visualize them to identify any trends or seasonality.\n"
   ],
   "id": "63f13154955789e3"
  },
  {
   "metadata": {},
   "cell_type": "code",
   "source": [
    "# Plot consumption patterns for a sample item\n",
    "sample_item = monthly_data['ITEM DESCRIPTION'].unique()[0]\n",
    "sample_data = monthly_data[monthly_data['ITEM DESCRIPTION'] == sample_item]\n",
    "\n",
    "plt.figure(figsize=(14, 7))\n",
    "plt.plot(sample_data.index, sample_data['Consumption'], marker='o', linestyle='-', color='deepskyblue' )\n",
    "plt.title(f'Consumption Pattern for {sample_item}')\n",
    "plt.xlabel('Date')\n",
    "plt.ylabel('Consumption')\n",
    "plt.grid(True)\n",
    "plt.show()\n"
   ],
   "id": "e0fa0d7241b71e95",
   "outputs": [],
   "execution_count": null
  },
  {
   "metadata": {},
   "cell_type": "code",
   "source": [
    "# Prepare for each item\n",
    "items = monthly_data['ITEM DESCRIPTION'].unique()\n",
    "\n",
    "future_predictions_all_items = []"
   ],
   "id": "20aba6761db5a6a5",
   "outputs": [],
   "execution_count": null
  },
  {
   "metadata": {},
   "cell_type": "markdown",
   "source": [
    "## Model Training and Evaluation\n",
    "\n",
    "We use XGBoost to train our model. The data is split into training and test sets to evaluate the model's performance. The mean squared error (MSE) is used as the evaluation metric.\n"
   ],
   "id": "220324c49a6154a"
  },
  {
   "metadata": {},
   "cell_type": "code",
   "source": [
    "for item in items:\n",
    "    # Filter data for the current item\n",
    "    item_data = monthly_data[monthly_data['ITEM DESCRIPTION'] == item].copy()\n",
    "\n",
    "    # Prepare features and target\n",
    "    item_data['Month'] = item_data.index.month\n",
    "    item_data['Year'] = item_data.index.year\n",
    "    item_data['Day_of_Week'] = item_data.index.dayofweek\n",
    "\n",
    "    # Example target variable: Predict next month's consumption\n",
    "    item_data['Next_Consumption'] = item_data['Consumption'].shift(-1)\n",
    "    item_data = item_data.dropna()\n",
    "\n",
    "    # Features and target\n",
    "    X = item_data[['Month', 'Year', 'Day_of_Week']]\n",
    "    y = item_data['Next_Consumption']\n",
    "\n",
    "    # Split data into training and test sets\n",
    "    X_train, X_test, y_train, y_test = train_test_split(X, y, test_size=0.2, shuffle=False)\n",
    "\n",
    "    # Initialize XGBoost regressor\n",
    "    model = xgb.XGBRegressor(objective='reg:squarederror')\n",
    "\n",
    "    # Train the model\n",
    "    model.fit(X_train, y_train)\n",
    "\n",
    "    # Evaluate the model\n",
    "    y_pred = model.predict(X_test)\n",
    "    mse = mean_squared_error(y_test, y_pred)\n",
    "    print(f'Item: {item} - Mean Squared Error: {mse}')\n",
    "\n",
    "    # Predict next month's consumption for the next 12 months\n",
    "    future_dates = pd.date_range(start=item_data.index.max() + pd.DateOffset(months=1), periods=12, freq='ME')\n",
    "    future_features = pd.DataFrame({\n",
    "        'Month': future_dates.month,\n",
    "        'Year': future_dates.year,\n",
    "        'Day_of_Week': future_dates.dayofweek\n",
    "    })\n",
    "\n",
    "    # Predict future consumption\n",
    "    future_predictions = model.predict(future_features)\n",
    "\n",
    "    # Create DataFrame for future predictions\n",
    "    future_df = pd.DataFrame({'Date': future_dates, 'Item': item, 'Predicted_Consumption': future_predictions})\n",
    "    future_predictions_all_items.append(future_df)\n",
    "\n",
    "# Combine all future predictions into a single DataFrame\n",
    "final_predictions = pd.concat(future_predictions_all_items)"
   ],
   "id": "f473b32fc1d9312f",
   "outputs": [],
   "execution_count": null
  },
  {
   "metadata": {},
   "cell_type": "markdown",
   "source": "## Save predictions to CSV",
   "id": "da459954b9078822"
  },
  {
   "metadata": {},
   "cell_type": "code",
   "source": [
    "# Save predictions to CSV\n",
    "final_predictions.to_csv('future_predictions.csv', index=False)\n",
    "print(\"Predictions saved to 'future_predictions.csv'\")\n",
    "\n",
    "# Display the first few rows of the predictions\n",
    "final_predictions.head()"
   ],
   "id": "81a698c683625065",
   "outputs": [],
   "execution_count": null
  },
  {
   "metadata": {},
   "cell_type": "markdown",
   "source": [
    "## Detailed Comparison and Visualization\n",
    "In this section, we will compare the historical consumption and the predicted consumption for a specific item (e.g., the first item in the dataset). This will help us understand how well the model performs and visualize the consumption trends."
   ],
   "id": "78449058c31f9626"
  },
  {
   "metadata": {},
   "cell_type": "code",
   "source": [
    "import matplotlib.pyplot as plt\n",
    "\n",
    "# Choose an item to plot (you can change this to any item in your dataset)\n",
    "item_to_plot = items[0]  # This selects the first item in the list\n",
    "\n",
    "# Filter data for the chosen item\n",
    "historical_data = monthly_data[monthly_data['ITEM DESCRIPTION'] == item_to_plot]\n",
    "predicted_data = final_predictions[final_predictions['Item'] == item_to_plot]\n",
    "\n",
    "# Create the plot\n",
    "plt.figure(figsize=(15, 7))\n",
    "\n",
    "# Plot historical data\n",
    "plt.plot(historical_data.index, historical_data['Consumption'], label='Historical', color='springgreen', marker='o')\n",
    "\n",
    "# Plot predicted data\n",
    "plt.plot(predicted_data['Date'], predicted_data['Predicted_Consumption'], label='Predicted', color='deepskyblue', marker='o')\n",
    "\n",
    "# Add labels and title\n",
    "plt.title(f'Consumption Pattern for {item_to_plot}')\n",
    "plt.xlabel('Date')\n",
    "plt.ylabel('Consumption')\n",
    "\n",
    "# Add legend\n",
    "plt.legend()\n",
    "\n",
    "# Show grid\n",
    "plt.grid(True, linestyle='--', alpha=0.7)\n",
    "\n",
    "\n",
    "# Rotate x-axis labels for better readability\n",
    "plt.xticks(rotation=45)\n",
    "\n",
    "# Adjust layout to prevent cutting off labels\n",
    "plt.tight_layout()\n",
    "\n",
    "# Show the plot\n",
    "plt.show()\n",
    "\n",
    "# Print some information about the plot\n",
    "print(f\"Plotting consumption for: {item_to_plot}\")\n",
    "print(f\"Historical data range: {historical_data.index.min()} to {historical_data.index.max()}\")\n",
    "print(f\"Prediction range: {predicted_data['Date'].min()} to {predicted_data['Date'].max()}\")"
   ],
   "id": "2ddfd858a5f33b9f",
   "outputs": [],
   "execution_count": null
  }
 ],
 "metadata": {
  "kernelspec": {
   "display_name": "Python 3 (ipykernel)",
   "language": "python",
   "name": "python3"
  },
  "language_info": {
   "codemirror_mode": {
    "name": "ipython",
    "version": 3
   },
   "file_extension": ".py",
   "mimetype": "text/x-python",
   "name": "python",
   "nbconvert_exporter": "python",
   "pygments_lexer": "ipython3",
   "version": "3.11.9"
  }
 },
 "nbformat": 4,
 "nbformat_minor": 5
}
