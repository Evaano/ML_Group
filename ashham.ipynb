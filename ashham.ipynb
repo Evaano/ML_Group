{
 "cells": [
  {
   "cell_type": "markdown",
   "metadata": {},
   "source": [
    "# Forecasting Hospital Stock Requirements using SARIMA\n",
    "\n",
    "This notebook demonstrates how to use the SARIMA model to forecast the consumption of medical items for Hulhumale Hospital. The goal is to predict the monthly stock requirements for the next year using historical consumption data."
   ]
  },
  {
   "cell_type": "code",
   "execution_count": 1,
   "metadata": {},
   "outputs": [],
   "source": [
    "import pandas as pd\n",
    "import numpy as np\n",
    "from statsmodels.tsa.statespace.sarimax import SARIMAX"
   ]
  },
  {
   "cell_type": "markdown",
   "metadata": {},
   "source": [
    "## Load the Dataset\n",
    "\n",
    "We start by loading the dataset containing historical monthly consumption data for various medical items over the past three years. The dataset should be in a CSV file format with columns for item details and monthly usage."
   ]
  },
  {
   "cell_type": "code",
   "execution_count": 2,
   "metadata": {},
   "outputs": [],
   "source": [
    "# Define the file path to the dataset\n",
    "file_path = 'ML_Group\\data.csv'  # Update this path as needed\n",
    "\n",
    "# Load the dataset into a DataFrame\n",
    "data = pd.read_csv(file_path)\n",
    "\n",
    "# Display the first few rows of the dataset to understand its structure\n",
    "data.head()"
   ]
  },
  {
   "cell_type": "markdown",
   "metadata": {},
   "source": [
    "## Prepare for Forecasting\n",
    "\n",
    "We will prepare to forecast the next 12 months for each item. This involves iterating over each row of the dataset, where each row corresponds to a single item. For each item, we'll use its monthly consumption data to fit a SARIMA model."
   ]
  },
  {
   "cell_type": "code",
   "execution_count": 3,
   "metadata": {},
   "outputs": [],
   "source": [
    "# Initialize a list to store prediction results for each item\n",
    "prediction_list = []\n",
    "\n",
    "# Define the date range for the existing data\n",
    "# We assume the data spans from January 2021 to December 2023 (3 years of monthly data)\n",
    "dates = pd.date_range(start='2021-01-01', periods=36, freq='MS')"
   ]
  },
  {
   "cell_type": "markdown",
   "metadata": {},
   "source": [
    "## Forecast with SARIMA\n",
    "\n",
    "For each item in the dataset, we will:\n",
    "- Extract the monthly consumption data.\n",
    "- Fit a SARIMA model to this time series data.\n",
    "- Forecast the consumption for the next 12 months.\n",
    "- Store the forecast results."
   ]
  },
  {
   "cell_type": "code",
   "execution_count": 4,
   "metadata": {},
   "outputs": [],
   "source": [
    "# Iterate over each item to forecast the next 12 months\n",
    "for index, row in data.iterrows():\n",
    "    item_code = row['ITEM CODE']\n",
    "    item_description = row['ITEM DESCRIPTION']\n",
    "    category = row['CATEGORY']\n",
    "    sub_category = row['SUB-CATEGORY']\n",
    "    unit = row['UNIT']\n",
    "    \n",
    "    # Extract the consumption data and ensure it is numeric\n",
    "    consumption_data = row.iloc[5:-4].replace(['', 'NA', 'N/A'], np.nan).astype(float).fillna(0)\n",
    "    consumption_series = pd.Series(consumption_data.values[:36], index=dates)  # Ensure it matches the date index\n",
    "    \n",
    "    # Define the SARIMA model\n",
    "    try:\n",
    "        model = SARIMAX(consumption_series, order=(1, 1, 1), seasonal_order=(0, 1, 1, 12), \n",
    "                       enforce_stationarity=False, enforce_invertibility=False)\n",
    "        sarima_model = model.fit(disp=False, method='powell')  # Using a different optimizer\n",
    "        \n",
    "        # Forecast the next 12 months\n",
    "        forecast = sarima_model.get_forecast(steps=12)\n",
    "        forecast_values = forecast.predicted_mean.round().astype(int)\n",
    "        \n",
    "        # Add the forecast to the list\n",
    "        prediction_list.append({\n",
    "            'ITEM CODE': item_code,\n",
    "            'ITEM DESCRIPTION': item_description,\n",
    "            'CATEGORY': category,\n",
    "            'SUB-CATEGORY': sub_category,\n",
    "            'UNIT': unit,\n",
    "            **{f'{month}_2024': value for month, value in zip(['JANUARY', 'FEBRUARY', 'MARCH', 'APRIL', 'MAY', 'JUNE', \n",
    "                                                              'JULY', 'AUGUST', 'SEPTEMBER', 'OCTOBER', 'NOVEMBER', 'DECEMBER'], \n",
    "                                                             forecast_values)}\n",
    "        })\n",
    "    except Exception as e:\n",
    "        print(f\"Error processing item {item_description}: {e}\")"
   ]
  },
  {
   "cell_type": "markdown",
   "metadata": {},
   "source": [
    "## Save Forecast Results\n",
    "\n",
    "Once we have generated the forecasts for all items, we'll save the results into a CSV file for easy access and further analysis."
   ]
  },
  {
   "cell_type": "code",
   "execution_count": 5,
   "metadata": {},
   "outputs": [],
   "source": [
    "# Convert the list of predictions to a DataFrame\n",
    "predictions_df = pd.DataFrame(prediction_list)\n",
    "\n",
    "# Save the predictions to a CSV file\n",
    "csv_path = 'forecasted_stock_2024.csv'\n",
    "predictions_df.to_csv(csv_path, index=False)\n",
    "\n",
    "print(f\"CSV file saved to: {csv_path}\")"
   ]
  }
 ],
 "metadata": {
  "kernelspec": {
   "display_name": "Python 3",
   "language": "python",
   "name": "python3"
  },
  "language_info": {
   "codemirror_mode": {
    "name": "ipython",
    "version": 3
   },
   "file_extension": ".py",
   "mimetype": "text/x-python",
   "name": "python",
   "nbconvert_exporter": "python",
   "pygments_lexer": "ipython3",
   "version": "3.12.4"
  }
 },
 "nbformat": 4,
 "nbformat_minor": 4
}
