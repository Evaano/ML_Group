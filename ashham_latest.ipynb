{
 "cells": [
  {
   "cell_type": "markdown",
   "metadata": {},
   "source": [
    "# Forecasting Hospital Stock Requirements using SARIMA\n",
    "\n",
    "This notebook demonstrates how to use the SARIMA model to forecast the consumption of medical items for Hulhumale Hospital. The goal is to predict the monthly stock requirements for the next year using historical consumption data."
   ]
  },
  {
   "cell_type": "code",
   "execution_count": null,
   "metadata": {},
   "outputs": [],
   "source": [
    "import pandas as pd\n",
    "import numpy as np\n",
    "from statsmodels.tsa.statespace.sarimax import SARIMAX\n",
    "import matplotlib.pyplot as plt\n",
    "%matplotlib inline"
   ]
  },
  {
   "cell_type": "markdown",
   "metadata": {},
   "source": [
    "## Load and Prepare Data\n",
    "\n",
    "We start by loading the dataset containing historical monthly consumption data for various medical items over the past three years. We will reshape this data to facilitate time series analysis."
   ]
  },
  {
   "cell_type": "code",
   "execution_count": null,
   "metadata": {},
   "outputs": [],
   "source": [
    "# Load and prepare data\n",
    "data = pd.read_csv('C:\\Desktop\\Projects\\ML_Group\\\\realdata.csv')\n",
    "\n",
    "# Reshape data\n",
    "monthly_data = pd.melt(data, id_vars=['ITEM DESCRIPTION'],\n",
    "                       value_vars=[col for col in data.columns if 'JANUARY' in col or 'FEBRUARY' in col or 'MARCH' in col or 'APRIL' in col or 'MAY' in col or 'JUNE' in col or 'JULY' in col or 'AUGUST' in col or 'SEPTEMBER' in col or 'OCTOBER' in col or 'NOVEMBER' in col or 'DECEMBER' in col],\n",
    "                       var_name='Month_Year', value_name='Consumption')\n",
    "\n",
    "# Extract year and month\n",
    "monthly_data['Year'] = monthly_data['Month_Year'].str.split('_').str[1]\n",
    "monthly_data['Month'] = monthly_data['Month_Year'].str.split('_').str[0]\n",
    "\n",
    "# Create a date column\n",
    "monthly_data['Date'] = pd.to_datetime(monthly_data['Month'] + ' ' + monthly_data['Year'], format='%B %Y')\n",
    "\n",
    "# Drop unnecessary columns\n",
    "monthly_data = monthly_data.drop(columns=['Month_Year'])\n",
    "\n",
    "# Sort by date\n",
    "monthly_data = monthly_data.sort_values(by='Date')\n",
    "\n",
    "# Set Date as index\n",
    "monthly_data.set_index('Date', inplace=True)\n",
    "\n",
    "# Display the first few rows of the reshaped data\n",
    "monthly_data.head()"
   ]
  },
  {
   "cell_type": "markdown",
   "metadata": {},
   "source": [
    "## Forecast with SARIMA\n",
    "\n",
    "For each item in the dataset, we will:\n",
    "- Extract the monthly consumption data.\n",
    "- Fit a SARIMA model to this time series data.\n",
    "- Forecast the consumption for the next 12 months.\n",
    "- Store the forecast results."
   ]
  },
  {
   "cell_type": "code",
   "execution_count": null,
   "metadata": {},
   "outputs": [],
   "source": [
    "# Prepare for each item\n",
    "items = monthly_data['ITEM DESCRIPTION'].unique()\n",
    "\n",
    "future_predictions_all_items = []\n",
    "\n",
    "for item in items:\n",
    "    # Filter data for the current item\n",
    "    item_data = monthly_data[monthly_data['ITEM DESCRIPTION'] == item].copy()\n",
    "\n",
    "    # Fit SARIMA model\n",
    "    try:\n",
    "        model = SARIMAX(item_data['Consumption'], order=(1, 1, 1), seasonal_order=(0, 1, 1, 12))\n",
    "        sarima_model = model.fit(disp=False)\n",
    "\n",
    "        # Forecast next 12 months\n",
    "        future_dates = pd.date_range(start=item_data.index.max() + pd.DateOffset(months=1), periods=12, freq='MS')\n",
    "        forecast = sarima_model.get_forecast(steps=12)\n",
    "        forecast_values = forecast.predicted_mean\n",
    "\n",
    "        # Create DataFrame for future predictions\n",
    "        future_df = pd.DataFrame({'Date': future_dates, 'Item': item, 'Predicted_Consumption': forecast_values})\n",
    "        future_predictions_all_items.append(future_df)\n",
    "\n",
    "    except Exception as e:\n",
    "        print(f\"Error processing item {item}: {e}\")"
   ]
  },
  {
   "cell_type": "markdown",
   "metadata": {},
   "source": [
    "## Combine and Plot Forecast Results\n",
    "\n",
    "Let's visualize the forecast results by plotting a bar chart comparing the historical and predicted consumption data for a specific item."
   ]
  },
  {
   "cell_type": "code",
   "execution_count": null,
   "metadata": {},
   "outputs": [],
   "source": [
    "# Combine all future predictions into a single DataFrame\n",
    "final_predictions = pd.concat(future_predictions_all_items)\n",
    "\n",
    "# Select a specific item for detailed analysis\n",
    "specific_item = items[0]\n",
    "\n",
    "# Historical data for the specific item\n",
    "historical_data = monthly_data[monthly_data['ITEM DESCRIPTION'] == specific_item].copy()\n",
    "\n",
    "# Predicted data for the specific item\n",
    "predicted_data = final_predictions[final_predictions['Item'] == specific_item].copy()\n",
    "\n",
    "# Add year and month columns to historical data\n",
    "historical_data['Year'] = historical_data.index.year\n",
    "historical_data['Month'] = historical_data.index.month\n",
    "\n",
    "# Add year and month columns to predicted data\n",
    "predicted_data['Year'] = predicted_data['Date'].dt.year\n",
    "predicted_data['Month'] = predicted_data['Date'].dt.month\n",
    "\n",
    "# Plot the bar graph\n",
    "plt.figure(figsize=(14, 8))\n",
    "\n",
    "# Define width and positions\n",
    "bar_width = 0.12\n",
    "months = range(1, 13)\n",
    "\n",
    "\n",
    "# Historical data for 2019\n",
    "hist_2019 = historical_data[historical_data['Year'] == 2019].groupby('Month')['Consumption'].sum()\n",
    "hist_2019.plot(kind='bar', color='red', position=0.5, width=bar_width, label='2019', align='center')\n",
    "\n",
    "# Historical data for 2020\n",
    "hist_2020 = historical_data[historical_data['Year'] == 2020].groupby('Month')['Consumption'].sum()\n",
    "hist_2020.plot(kind='bar', color='gold', position=1.5, width=bar_width, label='2020', align='center')\n",
    "\n",
    "# Historical data for 2021\n",
    "hist_2021 = historical_data[historical_data['Year'] == 2021].groupby('Month')['Consumption'].sum()\n",
    "hist_2021.plot(kind='bar', color='deepskyblue', position=2.5, width=bar_width, label='2021', align='center')\n",
    "\n",
    "# Historical data for 2022\n",
    "hist_2022 = historical_data[historical_data['Year'] == 2022].groupby('Month')['Consumption'].sum()\n",
    "hist_2022.plot(kind='bar', color='purple', position=3.5, width=bar_width, label='2022', align='center')\n",
    "\n",
    "# Historical data for 2023\n",
    "hist_2023 = historical_data[historical_data['Year'] == 2023].groupby('Month')['Consumption'].sum()\n",
    "hist_2023.plot(kind='bar', color='orange', position=4.5, width=bar_width, label='2023', align='center')\n",
    "\n",
    "# Predicted data for 2024\n",
    "pred_2024 = predicted_data[predicted_data['Year'] == 2024].groupby('Month')['Predicted_Consumption'].sum()\n",
    "pred_2024.plot(kind='bar', color='springgreen', position=5.5, width=bar_width, label='2024', align='center')\n",
    "\n",
    "plt.title(f'Monthly Consumption for {specific_item} (2019-2024)')\n",
    "plt.xlabel('Month')\n",
    "plt.ylabel('Total Consumption')\n",
    "plt.legend()\n",
    "plt.xticks(months, ['Jan', 'Feb', 'Mar', 'Apr', 'May', 'Jun', 'Jul', 'Aug', 'Sep', 'Oct', 'Nov', 'Dec'])\n",
    "plt.grid(axis='y')\n",
    "plt.show()"
   ]
  }
 ],
 "metadata": {
  "kernelspec": {
   "display_name": "Python 3",
   "language": "python",
   "name": "python3"
  },
  "language_info": {
   "codemirror_mode": {
    "name": "ipython",
    "version": 3
   },
   "file_extension": ".py",
   "mimetype": "text/x-python",
   "name": "python",
   "nbconvert_exporter": "python",
   "pygments_lexer": "ipython3",
   "version": "3.12.4"
  }
 },
 "nbformat": 4,
 "nbformat_minor": 4
}
