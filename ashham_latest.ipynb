{
 "cells": [
  {
   "cell_type": "markdown",
   "metadata": {},
   "source": [
    "# Predicting Hospital Stock Requirements using SARIMA\n",
    "\n",
    "Importing the required modules for this project"
   ]
  },
  {
   "cell_type": "code",
   "metadata": {},
   "source": [
    "import pandas as pd\n",
    "import numpy as np\n",
    "from statsmodels.tsa.statespace.sarimax import SARIMAX\n",
    "import matplotlib.pyplot as plt\n",
    "%matplotlib inline"
   ],
   "outputs": [],
   "execution_count": null
  },
  {
   "cell_type": "markdown",
   "metadata": {},
   "source": [
    "## Load and Prepare Data\n",
    "\n",
    "Loading the dataset containing historical monthly consumption data for various medical items over the past three years. We will reshape this data to facilitate time series analysis."
   ]
  },
  {
   "cell_type": "code",
   "metadata": {},
   "source": [
    "# Load and prepare data\n",
    "data = pd.read_csv('data.csv')\n",
    "\n",
    "# Reshape data\n",
    "monthly_data = pd.melt(data, id_vars=['ITEM DESCRIPTION'],\n",
    "                       value_vars=[col for col in data.columns if 'JANUARY' in col or 'FEBRUARY' in col or 'MARCH' in col or 'APRIL' in col or 'MAY' in col or 'JUNE' in col or 'JULY' in col or 'AUGUST' in col or 'SEPTEMBER' in col or 'OCTOBER' in col or 'NOVEMBER' in col or 'DECEMBER' in col],\n",
    "                       var_name='Month_Year', value_name='Consumption')\n",
    "\n",
    "# Extract year and month\n",
    "monthly_data['Year'] = monthly_data['Month_Year'].str.split('_').str[1]\n",
    "monthly_data['Month'] = monthly_data['Month_Year'].str.split('_').str[0]\n",
    "\n",
    "# Create a date column\n",
    "monthly_data['Date'] = pd.to_datetime(monthly_data['Month'] + ' ' + monthly_data['Year'], format='%B %Y')\n",
    "\n",
    "# Drop unnecessary columns\n",
    "monthly_data = monthly_data.drop(columns=['Month_Year'])\n",
    "\n",
    "# Sort by date\n",
    "monthly_data = monthly_data.sort_values(by='Date')\n",
    "\n",
    "# Set Date as index\n",
    "monthly_data.set_index('Date', inplace=True)\n",
    "\n",
    "# Display the first few rows of the reshaped data\n",
    "monthly_data.head()"
   ],
   "outputs": [],
   "execution_count": null
  },
  {
   "cell_type": "markdown",
   "metadata": {},
   "source": [
    "## Forecast with SARIMA\n",
    "\n",
    "For each item in the dataset, we will:\n",
    "- Extract the monthly consumption data.\n",
    "- Fit a SARIMA model to this time series data.\n",
    "- Forecast the consumption for the next 12 months.\n",
    "- Store the forecast results."
   ]
  },
  {
   "cell_type": "code",
   "metadata": {},
   "source": [
    "# Prepare for each item\n",
    "items = monthly_data['ITEM DESCRIPTION'].unique()\n",
    "\n",
    "future_predictions_all_items = []\n",
    "\n",
    "for item in items:\n",
    "    # Filter data for the current item\n",
    "    item_data = monthly_data[monthly_data['ITEM DESCRIPTION'] == item].copy()\n",
    "\n",
    "    # Fit SARIMA model\n",
    "    try:\n",
    "        model = SARIMAX(item_data['Consumption'], order=(1, 1, 1), seasonal_order=(0, 1, 1, 12))\n",
    "        sarima_model = model.fit(disp=False)\n",
    "\n",
    "        # Forecast next 12 months\n",
    "        future_dates = pd.date_range(start=item_data.index.max() + pd.DateOffset(months=1), periods=12, freq='MS')\n",
    "        forecast = sarima_model.get_forecast(steps=12)\n",
    "        forecast_values = forecast.predicted_mean\n",
    "\n",
    "        # Create DataFrame for future predictions\n",
    "        future_df = pd.DataFrame({'Date': future_dates, 'Item': item, 'Predicted_Consumption': forecast_values})\n",
    "        future_predictions_all_items.append(future_df)\n",
    "\n",
    "    except Exception as e:\n",
    "        print(f\"Error processing item {item}: {e}\")\n",
    "\n",
    "# Combine all future predictions into a single DataFrame\n",
    "final_predictions = pd.concat(future_predictions_all_items)"
   ],
   "outputs": [],
   "execution_count": null
  },
  {
   "cell_type": "markdown",
   "metadata": {},
   "source": [
    "### Save predictions to CSV"
   ]
  },
  {
   "cell_type": "code",
   "metadata": {},
   "source": [
    "# Save predictions to CSV\n",
    "final_predictions.to_csv('future_predictions.csv', index=False)\n",
    "print(\"Predictions saved to 'future_predictions.csv'\")\n",
    "\n",
    "# Display the first few rows of the predictions\n",
    "final_predictions.head()"
   ],
   "outputs": [],
   "execution_count": null
  },
  {
   "cell_type": "markdown",
   "metadata": {},
   "source": [
    "## Combine and Plot Forecast Results\n",
    "\n",
    "Visualizing the forecast results by plotting a bar chart comparing the historical and predicted consumption data for a specific item."
   ]
  },
  {
   "cell_type": "code",
   "metadata": {},
   "source": [
    "import matplotlib.pyplot as plt\n",
    "\n",
    "# Choose an item to plot (you can change this to any item in your dataset)\n",
    "item_to_plot = items[0]  # This selects the first item in the list\n",
    "\n",
    "# Filter data for the chosen item\n",
    "historical_data = monthly_data[monthly_data['ITEM DESCRIPTION'] == item_to_plot]\n",
    "predicted_data = final_predictions[final_predictions['Item'] == item_to_plot]\n",
    "\n",
    "# Create the plot\n",
    "plt.figure(figsize=(15, 7))\n",
    "\n",
    "# Plot historical data\n",
    "plt.plot(historical_data.index, historical_data['Consumption'], label='Historical', color='springgreen', marker='o')\n",
    "\n",
    "# Plot predicted data\n",
    "plt.plot(predicted_data['Date'], predicted_data['Predicted_Consumption'], label='Predicted', color='deepskyblue', marker='o')\n",
    "\n",
    "# Add labels and title\n",
    "plt.title(f'Consumption Pattern for {item_to_plot}')\n",
    "plt.xlabel('Date')\n",
    "plt.ylabel('Consumption')\n",
    "\n",
    "# Add legend\n",
    "plt.legend()\n",
    "\n",
    "# Show grid\n",
    "plt.grid(True, linestyle='--', alpha=0.7)\n",
    "\n",
    "\n",
    "# Rotate x-axis labels for better readability\n",
    "plt.xticks(rotation=45)\n",
    "\n",
    "# Adjust layout to prevent cutting off labels\n",
    "plt.tight_layout()\n",
    "\n",
    "# Show the plot\n",
    "plt.show()\n",
    "\n",
    "# Print some information about the plot\n",
    "print(f\"Plotting consumption for: {item_to_plot}\")\n",
    "print(f\"Historical data range: {historical_data.index.min()} to {historical_data.index.max()}\")\n",
    "print(f\"Prediction range: {predicted_data['Date'].min()} to {predicted_data['Date'].max()}\")"
   ],
   "outputs": [],
   "execution_count": null
  }
 ],
 "metadata": {
  "kernelspec": {
   "display_name": "Python 3",
   "language": "python",
   "name": "python3"
  },
  "language_info": {
   "codemirror_mode": {
    "name": "ipython",
    "version": 3
   },
   "file_extension": ".py",
   "mimetype": "text/x-python",
   "name": "python",
   "nbconvert_exporter": "python",
   "pygments_lexer": "ipython3",
   "version": "3.12.4"
  }
 },
 "nbformat": 4,
 "nbformat_minor": 4
}
